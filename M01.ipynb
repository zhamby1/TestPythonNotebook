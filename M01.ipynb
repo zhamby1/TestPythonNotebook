{
 "cells": [
  {
   "cell_type": "code",
   "execution_count": 1,
   "id": "703ecf4a-fe19-4e1b-87fd-50835ccc5a28",
   "metadata": {},
   "outputs": [
    {
     "name": "stdout",
     "output_type": "stream",
     "text": [
      "Hello world\n"
     ]
    }
   ],
   "source": [
    "print(\"Hello world\")"
   ]
  },
  {
   "cell_type": "markdown",
   "id": "4b847899-1fe2-45e0-94c5-38e0b9892ae9",
   "metadata": {},
   "source": [
    "The answer to the above question is Hello World\n"
   ]
  },
  {
   "cell_type": "code",
   "execution_count": null,
   "id": "0530d16d-2e3c-4869-940d-1d0238ff980d",
   "metadata": {},
   "outputs": [],
   "source": []
  }
 ],
 "metadata": {
  "kernelspec": {
   "display_name": "Python 3 (ipykernel)",
   "language": "python",
   "name": "python3"
  },
  "language_info": {
   "codemirror_mode": {
    "name": "ipython",
    "version": 3
   },
   "file_extension": ".py",
   "mimetype": "text/x-python",
   "name": "python",
   "nbconvert_exporter": "python",
   "pygments_lexer": "ipython3",
   "version": "3.9.7"
  }
 },
 "nbformat": 4,
 "nbformat_minor": 5
}
